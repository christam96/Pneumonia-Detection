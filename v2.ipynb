{
 "cells": [
  {
   "cell_type": "code",
   "execution_count": 1,
   "metadata": {},
   "outputs": [
    {
     "name": "stdout",
     "output_type": "stream",
     "text": [
      "2.3.0\n"
     ]
    }
   ],
   "source": [
    "# Imports\n",
    "import pandas as pd\n",
    "import numpy as np\n",
    "import matplotlib.pyplot as plt\n",
    "import os\n",
    "from PIL import Image\n",
    "from sklearn.model_selection import train_test_split\n",
    "import shutil\n",
    "\n",
    "import tensorflow as tf\n",
    "from tensorflow import keras\n",
    "from tensorflow.keras import layers\n",
    "\n",
    "print(tf.__version__)"
   ]
  },
  {
   "cell_type": "code",
   "execution_count": 2,
   "metadata": {},
   "outputs": [],
   "source": [
    "NUM_EPOCHS = 10"
   ]
  },
  {
   "cell_type": "markdown",
   "metadata": {},
   "source": [
    "## Load the data"
   ]
  },
  {
   "cell_type": "code",
   "execution_count": 3,
   "metadata": {},
   "outputs": [
    {
     "name": "stdout",
     "output_type": "stream",
     "text": [
      "Found 5216 files belonging to 2 classes.\n",
      "Found 16 files belonging to 2 classes.\n",
      "Found 624 files belonging to 2 classes.\n"
     ]
    }
   ],
   "source": [
    "training_dir = 'chest_xray/chest_xray/train'\n",
    "train_ds = tf.keras.preprocessing.image_dataset_from_directory(\n",
    "  training_dir,\n",
    "  seed=123,\n",
    "  image_size=(200,200),\n",
    "  batch_size=4)\n",
    "\n",
    "validation_dir = 'chest_xray/chest_xray/val'\n",
    "val_ds = tf.keras.preprocessing.image_dataset_from_directory(\n",
    "  validation_dir,\n",
    "  seed=123,\n",
    "  image_size=(200,200),\n",
    "  batch_size=4)\n",
    "\n",
    "testing_dir = 'chest_xray/chest_xray/test'\n",
    "test_ds = tf.keras.preprocessing.image_dataset_from_directory(\n",
    "  testing_dir,\n",
    "  seed=123,\n",
    "  image_size=(200,200),\n",
    "  batch_size=4)"
   ]
  },
  {
   "cell_type": "code",
   "execution_count": 4,
   "metadata": {},
   "outputs": [
    {
     "name": "stdout",
     "output_type": "stream",
     "text": [
      "(4, 200, 200, 3)\n",
      "(4,)\n"
     ]
    }
   ],
   "source": [
    "for image_batch, labels_batch in train_ds:\n",
    "    print(image_batch.shape)\n",
    "    print(labels_batch.shape)\n",
    "    break"
   ]
  },
  {
   "cell_type": "markdown",
   "metadata": {},
   "source": [
    "## Standardize the data"
   ]
  },
  {
   "cell_type": "code",
   "execution_count": 5,
   "metadata": {},
   "outputs": [],
   "source": [
    "# Instatiate the normalization layer\n",
    "normalization_layer = tf.keras.layers.experimental.preprocessing.Rescaling(1./255)"
   ]
  },
  {
   "cell_type": "markdown",
   "metadata": {},
   "source": [
    "## Configure dataset for performance"
   ]
  },
  {
   "cell_type": "code",
   "execution_count": 6,
   "metadata": {},
   "outputs": [],
   "source": [
    "AUTOTUNE = tf.data.experimental.AUTOTUNE\n",
    "\n",
    "train_tensors = train_ds.cache().prefetch(buffer_size=AUTOTUNE)\n",
    "val_tensors = val_ds.cache().prefetch(buffer_size=AUTOTUNE)"
   ]
  },
  {
   "cell_type": "markdown",
   "metadata": {},
   "source": [
    "## Train a model"
   ]
  },
  {
   "cell_type": "code",
   "execution_count": 7,
   "metadata": {},
   "outputs": [
    {
     "name": "stdout",
     "output_type": "stream",
     "text": [
      "Epoch 1/10\n",
      "1304/1304 [==============================] - 266s 204ms/step - loss: 0.2109 - accuracy: 0.9273 - val_loss: 0.2813 - val_accuracy: 0.8750\n",
      "Epoch 2/10\n",
      "1304/1304 [==============================] - 263s 201ms/step - loss: 0.1124 - accuracy: 0.9607 - val_loss: 0.3062 - val_accuracy: 0.9375\n",
      "Epoch 3/10\n",
      "1304/1304 [==============================] - 260s 199ms/step - loss: 0.0573 - accuracy: 0.9804 - val_loss: 0.3465 - val_accuracy: 0.7500\n",
      "Epoch 4/10\n",
      "1304/1304 [==============================] - 266s 204ms/step - loss: 0.0427 - accuracy: 0.9839 - val_loss: 0.2730 - val_accuracy: 0.8750\n",
      "Epoch 5/10\n",
      "1304/1304 [==============================] - 265s 204ms/step - loss: 0.0369 - accuracy: 0.9873 - val_loss: 0.0572 - val_accuracy: 1.0000\n",
      "Epoch 6/10\n",
      "1304/1304 [==============================] - 265s 203ms/step - loss: 0.0179 - accuracy: 0.9948 - val_loss: 0.6294 - val_accuracy: 0.6875\n",
      "Epoch 7/10\n",
      "1304/1304 [==============================] - 265s 203ms/step - loss: 0.0135 - accuracy: 0.9952 - val_loss: 0.2793 - val_accuracy: 0.8750\n",
      "Epoch 8/10\n",
      "1304/1304 [==============================] - 265s 203ms/step - loss: 0.0207 - accuracy: 0.9958 - val_loss: 0.1680 - val_accuracy: 0.8750\n",
      "Epoch 9/10\n",
      "1304/1304 [==============================] - 265s 203ms/step - loss: 0.0384 - accuracy: 0.9921 - val_loss: 0.2438 - val_accuracy: 0.8750\n",
      "Epoch 10/10\n",
      "1304/1304 [==============================] - 268s 206ms/step - loss: 0.0089 - accuracy: 0.9975 - val_loss: 1.7246 - val_accuracy: 0.8125\n"
     ]
    },
    {
     "data": {
      "image/png": "[encoded data removed]",
      "text/plain": [
       "<Figure size 720x216 with 2 Axes>"
      ]
     },
     "metadata": {
      "needs_background": "light"
     },
     "output_type": "display_data"
    }
   ],
   "source": [
    "num_classes = 1\n",
    "\n",
    "model = tf.keras.Sequential([\n",
    "  layers.experimental.preprocessing.Rescaling(1./255),\n",
    "  layers.Conv2D(32, 3, activation='relu'),\n",
    "  layers.MaxPooling2D(),\n",
    "  layers.Conv2D(32, 3, activation='relu'),\n",
    "  layers.MaxPooling2D(),\n",
    "  layers.Flatten(),\n",
    "  layers.Dense(128, activation='relu'),\n",
    "  layers.Dense(1, activation='sigmoid')\n",
    "])\n",
    "\n",
    "model.compile(\n",
    "  optimizer='adam',\n",
    "    loss=tf.losses.BinaryCrossentropy(from_logits=False),\n",
    "  metrics=['accuracy'])\n",
    "\n",
    "history = model.fit(\n",
    "  train_ds,\n",
    "  validation_data=val_ds,\n",
    "  epochs=NUM_EPOCHS\n",
    ")\n",
    "\n",
    "fig, ax = plt.subplots(1, 2, figsize=(10, 3))\n",
    "ax = ax.ravel()\n",
    "\n",
    "for i, met in enumerate(['accuracy', 'loss']):\n",
    "    ax[i].plot(history.history[met])\n",
    "    ax[i].plot(history.history['val_' + met])\n",
    "    ax[i].set_title('Model {}'.format(met))\n",
    "    ax[i].set_xlabel('epochs')\n",
    "    ax[i].set_ylabel(met)\n",
    "    ax[i].legend(['train', 'val'])"
   ]
  },
  {
   "cell_type": "code",
   "execution_count": 8,
   "metadata": {},
   "outputs": [
    {
     "name": "stdout",
     "output_type": "stream",
     "text": [
      "CONFUSION MATRIX ------------------\n",
      "[[ 12 222]\n",
      " [ 28 362]]\n",
      "\n",
      "TEST METRICS ----------------------\n",
      "Accuracy: 59.93589743589743%\n",
      "Precision: 61.986301369863014%\n",
      "Recall: 92.82051282051282%\n",
      "F1-score: 74.33264887063655\n",
      "\n",
      "TRAIN METRIC ----------------------\n",
      "Train acc: 99.75\n"
     ]
    }
   ],
   "source": [
    "# TEST\n",
    "\n",
    "import cv2\n",
    "from sklearn.metrics import accuracy_score, confusion_matrix\n",
    "\n",
    "# I will be making predictions off of the test set in one batch size\n",
    "# This is useful to be able to get the confusion matrix\n",
    "test_data = []\n",
    "test_labels = []\n",
    "\n",
    "input_path = 'chest_xray/chest_xray/'\n",
    "\n",
    "for cond in ['/NORMAL/', '/PNEUMONIA/']:\n",
    "    for img in (os.listdir(input_path + 'test' + cond)):\n",
    "        img = plt.imread(input_path+'test'+cond+img)\n",
    "        img = cv2.resize(img, (200, 200))\n",
    "        img = np.dstack([img, img, img])\n",
    "        img = img.astype('float32') / 255\n",
    "        if cond=='/NORMAL/':\n",
    "            label = 0\n",
    "        elif cond=='/PNEUMONIA/':\n",
    "            label = 1\n",
    "        test_data.append(img)\n",
    "        test_labels.append(label)\n",
    "\n",
    "test_data = np.array(test_data)\n",
    "test_labels = np.array(test_labels)\n",
    "\n",
    "preds = model.predict(test_ds)\n",
    "\n",
    "acc = accuracy_score(test_labels, np.round(preds))*100\n",
    "cm = confusion_matrix(test_labels, np.round(preds))\n",
    "tn, fp, fn, tp = cm.ravel()\n",
    "\n",
    "print('CONFUSION MATRIX ------------------')\n",
    "print(cm)\n",
    "\n",
    "print('\\nTEST METRICS ----------------------')\n",
    "precision = tp/(tp+fp)*100\n",
    "recall = tp/(tp+fn)*100\n",
    "print('Accuracy: {}%'.format(acc))\n",
    "print('Precision: {}%'.format(precision))\n",
    "print('Recall: {}%'.format(recall))\n",
    "print('F1-score: {}'.format(2*precision*recall/(precision+recall)))\n",
    "\n",
    "print('\\nTRAIN METRIC ----------------------')\n",
    "print('Train acc: {}'.format(np.round((history.history['accuracy'][-1])*100, 2)))\n"
   ]
  },
  {
   "cell_type": "markdown",
   "metadata": {},
   "source": [
    "### To Do\n",
    "* [ ] Change batch size\n",
    "* [ ] Implement drop out\n",
    "* [ ] Explore other model architectures\n",
    "    * [ ] Convolutional NN"
   ]
  },
  {
   "cell_type": "markdown",
   "metadata": {},
   "source": [
    "## Change batch size"
   ]
  },
  {
   "cell_type": "markdown",
   "metadata": {},
   "source": [
    "###### Batch size should be large enough so that each batch has enough of a chance to see enough of each label.\n",
    "###### Remember that there are 3 times as many 'PNEUMONIA' labels as there are 'NORMAL'"
   ]
  },
  {
   "cell_type": "code",
   "execution_count": 9,
   "metadata": {},
   "outputs": [
    {
     "name": "stdout",
     "output_type": "stream",
     "text": [
      "Found 5216 files belonging to 2 classes.\n",
      "Found 16 files belonging to 2 classes.\n",
      "Found 624 files belonging to 2 classes.\n",
      "Epoch 1/10\n",
      "82/82 [==============================] - 177s 2s/step - loss: 0.4610 - accuracy: 0.8115 - val_loss: 0.4206 - val_accuracy: 0.7500\n",
      "Epoch 2/10\n",
      "82/82 [==============================] - 179s 2s/step - loss: 0.1164 - accuracy: 0.9572 - val_loss: 0.3530 - val_accuracy: 0.8125\n",
      "Epoch 3/10\n",
      "82/82 [==============================] - 175s 2s/step - loss: 0.0925 - accuracy: 0.9670 - val_loss: 0.2569 - val_accuracy: 0.9375\n",
      "Epoch 4/10\n",
      "82/82 [==============================] - 176s 2s/step - loss: 0.0649 - accuracy: 0.9755 - val_loss: 0.6324 - val_accuracy: 0.6875\n",
      "Epoch 5/10\n",
      "82/82 [==============================] - 175s 2s/step - loss: 0.0571 - accuracy: 0.9787 - val_loss: 0.1261 - val_accuracy: 0.9375\n",
      "Epoch 6/10\n",
      "82/82 [==============================] - 177s 2s/step - loss: 0.0377 - accuracy: 0.9862 - val_loss: 0.2794 - val_accuracy: 0.8750\n",
      "Epoch 7/10\n",
      "82/82 [==============================] - 176s 2s/step - loss: 0.0297 - accuracy: 0.9906 - val_loss: 0.1016 - val_accuracy: 1.0000\n",
      "Epoch 8/10\n",
      "82/82 [==============================] - 176s 2s/step - loss: 0.0326 - accuracy: 0.9862 - val_loss: 0.3469 - val_accuracy: 0.7500\n",
      "Epoch 9/10\n",
      "82/82 [==============================] - 176s 2s/step - loss: 0.0382 - accuracy: 0.9864 - val_loss: 0.0818 - val_accuracy: 1.0000\n",
      "Epoch 10/10\n",
      "82/82 [==============================] - 176s 2s/step - loss: 0.0146 - accuracy: 0.9956 - val_loss: 0.1536 - val_accuracy: 0.9375\n"
     ]
    },
    {
     "data": {
      "image/png": "[encoded data removed]",
      "text/plain": [
       "<Figure size 720x216 with 2 Axes>"
      ]
     },
     "metadata": {
      "needs_background": "light"
     },
     "output_type": "display_data"
    }
   ],
   "source": [
    "BATCH_SIZE = 64\n",
    "\n",
    "training_dir = 'chest_xray/chest_xray/train'\n",
    "train_ds = tf.keras.preprocessing.image_dataset_from_directory(\n",
    "  training_dir,\n",
    "  seed=123,\n",
    "  image_size=(200,200),\n",
    "  batch_size=BATCH_SIZE)\n",
    "\n",
    "validation_dir = 'chest_xray/chest_xray/val'\n",
    "val_ds = tf.keras.preprocessing.image_dataset_from_directory(\n",
    "  validation_dir,\n",
    "  seed=123,\n",
    "  image_size=(200,200),\n",
    "  batch_size=BATCH_SIZE)\n",
    "\n",
    "testing_dir = 'chest_xray/chest_xray/test'\n",
    "test_ds = tf.keras.preprocessing.image_dataset_from_directory(\n",
    "  testing_dir,\n",
    "  seed=123,\n",
    "  image_size=(200,200),\n",
    "  batch_size=BATCH_SIZE)\n",
    "\n",
    "# Instatiate the normalization layer\n",
    "normalization_layer = tf.keras.layers.experimental.preprocessing.Rescaling(1./255)\n",
    "\n",
    "AUTOTUNE = tf.data.experimental.AUTOTUNE\n",
    "\n",
    "train_tensors = train_ds.cache().prefetch(buffer_size=AUTOTUNE)\n",
    "val_tensors = val_ds.cache().prefetch(buffer_size=AUTOTUNE)\n",
    "\n",
    "num_classes = 1\n",
    "\n",
    "model = tf.keras.Sequential([\n",
    "  layers.experimental.preprocessing.Rescaling(1./255),\n",
    "  layers.Conv2D(32, 3, activation='relu'),\n",
    "  layers.MaxPooling2D(),\n",
    "  layers.Conv2D(32, 3, activation='relu'),\n",
    "  layers.MaxPooling2D(),\n",
    "  layers.Flatten(),\n",
    "  layers.Dense(128, activation='relu'),\n",
    "  layers.Dense(1, activation='sigmoid')\n",
    "])\n",
    "\n",
    "model.compile(\n",
    "  optimizer='adam',\n",
    "    loss=tf.losses.BinaryCrossentropy(from_logits=False),\n",
    "  metrics=['accuracy'])\n",
    "\n",
    "history = model.fit(\n",
    "  train_ds,\n",
    "  validation_data=val_ds,\n",
    "  epochs=NUM_EPOCHS\n",
    ")\n",
    "\n",
    "fig, ax = plt.subplots(1, 2, figsize=(10, 3))\n",
    "ax = ax.ravel()\n",
    "\n",
    "for i, met in enumerate(['accuracy', 'loss']):\n",
    "    ax[i].plot(history.history[met])\n",
    "    ax[i].plot(history.history['val_' + met])\n",
    "    ax[i].set_title('Model {}'.format(met))\n",
    "    ax[i].set_xlabel('epochs')\n",
    "    ax[i].set_ylabel(met)\n",
    "    ax[i].legend(['train', 'val'])"
   ]
  },
  {
   "cell_type": "code",
   "execution_count": 10,
   "metadata": {},
   "outputs": [
    {
     "name": "stdout",
     "output_type": "stream",
     "text": [
      "CONFUSION MATRIX ------------------\n",
      "[[ 19 215]\n",
      " [ 54 336]]\n",
      "\n",
      "TEST METRICS ----------------------\n",
      "Accuracy: 56.891025641025635%\n",
      "Precision: 60.98003629764065%\n",
      "Recall: 86.15384615384616%\n",
      "F1-score: 71.413390010627\n",
      "\n",
      "TRAIN METRIC ----------------------\n",
      "Train acc: 99.56\n"
     ]
    }
   ],
   "source": [
    "# TEST\n",
    "\n",
    "import cv2\n",
    "from sklearn.metrics import accuracy_score, confusion_matrix\n",
    "\n",
    "# I will be making predictions off of the test set in one batch size\n",
    "# This is useful to be able to get the confusion matrix\n",
    "test_data = []\n",
    "test_labels = []\n",
    "\n",
    "input_path = 'chest_xray/chest_xray/'\n",
    "\n",
    "for cond in ['/NORMAL/', '/PNEUMONIA/']:\n",
    "    for img in (os.listdir(input_path + 'test' + cond)):\n",
    "        img = plt.imread(input_path+'test'+cond+img)\n",
    "        img = cv2.resize(img, (200, 200))\n",
    "        img = np.dstack([img, img, img])\n",
    "        img = img.astype('float32') / 255\n",
    "        if cond=='/NORMAL/':\n",
    "            label = 0\n",
    "        elif cond=='/PNEUMONIA/':\n",
    "            label = 1\n",
    "        test_data.append(img)\n",
    "        test_labels.append(label)\n",
    "\n",
    "test_data = np.array(test_data)\n",
    "test_labels = np.array(test_labels)\n",
    "\n",
    "preds = model.predict(test_ds)\n",
    "\n",
    "acc = accuracy_score(test_labels, np.round(preds))*100\n",
    "cm = confusion_matrix(test_labels, np.round(preds))\n",
    "tn, fp, fn, tp = cm.ravel()\n",
    "\n",
    "print('CONFUSION MATRIX ------------------')\n",
    "print(cm)\n",
    "\n",
    "print('\\nTEST METRICS ----------------------')\n",
    "precision = tp/(tp+fp)*100\n",
    "recall = tp/(tp+fn)*100\n",
    "print('Accuracy: {}%'.format(acc))\n",
    "print('Precision: {}%'.format(precision))\n",
    "print('Recall: {}%'.format(recall))\n",
    "print('F1-score: {}'.format(2*precision*recall/(precision+recall)))\n",
    "\n",
    "print('\\nTRAIN METRIC ----------------------')\n",
    "print('Train acc: {}'.format(np.round((history.history['accuracy'][-1])*100, 2)))\n"
   ]
  },
  {
   "cell_type": "markdown",
   "metadata": {},
   "source": [
    "## Use dropout"
   ]
  },
  {
   "cell_type": "code",
   "execution_count": 11,
   "metadata": {},
   "outputs": [
    {
     "name": "stdout",
     "output_type": "stream",
     "text": [
      "Found 5216 files belonging to 2 classes.\n",
      "Found 16 files belonging to 2 classes.\n",
      "Epoch 1/10\n",
      "82/82 [==============================] - 195s 2s/step - loss: 1.1476 - accuracy: 0.7157 - val_loss: 0.6827 - val_accuracy: 0.5000\n",
      "Epoch 2/10\n",
      "82/82 [==============================] - 196s 2s/step - loss: 0.2581 - accuracy: 0.8963 - val_loss: 0.4499 - val_accuracy: 0.8125\n",
      "Epoch 3/10\n",
      "82/82 [==============================] - 195s 2s/step - loss: 0.1765 - accuracy: 0.9279 - val_loss: 0.4206 - val_accuracy: 0.7500\n",
      "Epoch 4/10\n",
      "82/82 [==============================] - 196s 2s/step - loss: 0.1525 - accuracy: 0.9434 - val_loss: 0.6882 - val_accuracy: 0.6250\n",
      "Epoch 5/10\n",
      "82/82 [==============================] - 196s 2s/step - loss: 0.1414 - accuracy: 0.9459 - val_loss: 0.4023 - val_accuracy: 0.7500\n",
      "Epoch 6/10\n",
      "82/82 [==============================] - 196s 2s/step - loss: 0.1120 - accuracy: 0.9580 - val_loss: 0.3942 - val_accuracy: 0.7500\n",
      "Epoch 7/10\n",
      "82/82 [==============================] - 196s 2s/step - loss: 0.1056 - accuracy: 0.9590 - val_loss: 0.4297 - val_accuracy: 0.6875\n",
      "Epoch 8/10\n",
      "82/82 [==============================] - 196s 2s/step - loss: 0.1040 - accuracy: 0.9597 - val_loss: 0.4213 - val_accuracy: 0.6875\n",
      "Epoch 9/10\n",
      "82/82 [==============================] - 195s 2s/step - loss: 0.0912 - accuracy: 0.9661 - val_loss: 0.4069 - val_accuracy: 0.6875\n",
      "Epoch 10/10\n",
      "82/82 [==============================] - 198s 2s/step - loss: 0.0910 - accuracy: 0.9655 - val_loss: 0.3922 - val_accuracy: 0.7500\n"
     ]
    },
    {
     "data": {
      "image/png": "[encoded data removed]",
      "text/plain": [
       "<Figure size 720x216 with 2 Axes>"
      ]
     },
     "metadata": {
      "needs_background": "light"
     },
     "output_type": "display_data"
    }
   ],
   "source": [
    "BATCH_SIZE = 64\n",
    "\n",
    "training_dir = 'chest_xray/chest_xray/train'\n",
    "train_ds = tf.keras.preprocessing.image_dataset_from_directory(\n",
    "  training_dir,\n",
    "  seed=123,\n",
    "  image_size=(200,200),\n",
    "  batch_size=BATCH_SIZE)\n",
    "\n",
    "validation_dir = 'chest_xray/chest_xray/val'\n",
    "val_ds = tf.keras.preprocessing.image_dataset_from_directory(\n",
    "  validation_dir,\n",
    "  seed=123,\n",
    "  image_size=(200,200),\n",
    "  batch_size=BATCH_SIZE)\n",
    "\n",
    "# Instatiate the normalization layer\n",
    "normalization_layer = tf.keras.layers.experimental.preprocessing.Rescaling(1./255)\n",
    "\n",
    "AUTOTUNE = tf.data.experimental.AUTOTUNE\n",
    "\n",
    "train_tensors = train_ds.cache().prefetch(buffer_size=AUTOTUNE)\n",
    "val_tensors = val_ds.cache().prefetch(buffer_size=AUTOTUNE)\n",
    "\n",
    "model = tf.keras.Sequential([\n",
    "  layers.experimental.preprocessing.Rescaling(1./255),\n",
    "  layers.Dropout(rate=0.2),\n",
    "  layers.Conv2D(32, 3, activation='relu'),\n",
    "  layers.MaxPooling2D(),\n",
    "  layers.Dropout(rate=0.5),\n",
    "  layers.Conv2D(32, 3, activation='relu'),\n",
    "  layers.MaxPooling2D(),\n",
    "  layers.Dropout(rate=0.5),\n",
    "  layers.Flatten(),\n",
    "  layers.Dense(128, activation='relu'),\n",
    "  layers.Dense(1, activation='sigmoid')\n",
    "])\n",
    "\n",
    "model.compile(\n",
    "  optimizer='adam',\n",
    "    loss=tf.losses.BinaryCrossentropy(from_logits=False),\n",
    "  metrics=['accuracy'])\n",
    "\n",
    "history = model.fit(\n",
    "  train_ds,\n",
    "  validation_data=val_ds,\n",
    "  epochs=NUM_EPOCHS\n",
    ")\n",
    "\n",
    "fig, ax = plt.subplots(1, 2, figsize=(10, 3))\n",
    "ax = ax.ravel()\n",
    "\n",
    "for i, met in enumerate(['accuracy', 'loss']):\n",
    "    ax[i].plot(history.history[met])\n",
    "    ax[i].plot(history.history['val_' + met])\n",
    "    ax[i].set_title('Model {}'.format(met))\n",
    "    ax[i].set_xlabel('epochs')\n",
    "    ax[i].set_ylabel(met)\n",
    "    ax[i].legend(['train', 'val'])"
   ]
  },
  {
   "cell_type": "code",
   "execution_count": 12,
   "metadata": {},
   "outputs": [
    {
     "name": "stdout",
     "output_type": "stream",
     "text": [
      "CONFUSION MATRIX ------------------\n",
      "[[ 28 206]\n",
      " [ 46 344]]\n",
      "\n",
      "TEST METRICS ----------------------\n",
      "Accuracy: 59.61538461538461%\n",
      "Precision: 62.54545454545455%\n",
      "Recall: 88.2051282051282%\n",
      "F1-score: 73.19148936170212\n",
      "\n",
      "TRAIN METRIC ----------------------\n",
      "Train acc: 96.55\n"
     ]
    }
   ],
   "source": [
    "# TEST\n",
    "\n",
    "import cv2\n",
    "from sklearn.metrics import accuracy_score, confusion_matrix\n",
    "\n",
    "# I will be making predictions off of the test set in one batch size\n",
    "# This is useful to be able to get the confusion matrix\n",
    "test_data = []\n",
    "test_labels = []\n",
    "\n",
    "input_path = 'chest_xray/chest_xray/'\n",
    "\n",
    "for cond in ['/NORMAL/', '/PNEUMONIA/']:\n",
    "    for img in (os.listdir(input_path + 'test' + cond)):\n",
    "        img = plt.imread(input_path+'test'+cond+img)\n",
    "        img = cv2.resize(img, (200, 200))\n",
    "        img = np.dstack([img, img, img])\n",
    "        img = img.astype('float32') / 255\n",
    "        if cond=='/NORMAL/':\n",
    "            label = 0\n",
    "        elif cond=='/PNEUMONIA/':\n",
    "            label = 1\n",
    "        test_data.append(img)\n",
    "        test_labels.append(label)\n",
    "\n",
    "test_data = np.array(test_data)\n",
    "test_labels = np.array(test_labels)\n",
    "\n",
    "preds = model.predict(test_ds)\n",
    "\n",
    "acc = accuracy_score(test_labels, np.round(preds))*100\n",
    "cm = confusion_matrix(test_labels, np.round(preds))\n",
    "tn, fp, fn, tp = cm.ravel()\n",
    "\n",
    "print('CONFUSION MATRIX ------------------')\n",
    "print(cm)\n",
    "\n",
    "print('\\nTEST METRICS ----------------------')\n",
    "precision = tp/(tp+fp)*100\n",
    "recall = tp/(tp+fn)*100\n",
    "print('Accuracy: {}%'.format(acc))\n",
    "print('Precision: {}%'.format(precision))\n",
    "print('Recall: {}%'.format(recall))\n",
    "print('F1-score: {}'.format(2*precision*recall/(precision+recall)))\n",
    "\n",
    "print('\\nTRAIN METRIC ----------------------')\n",
    "print('Train acc: {}'.format(np.round((history.history['accuracy'][-1])*100, 2)))\n"
   ]
  },
  {
   "cell_type": "markdown",
   "metadata": {},
   "source": [
    "## Stack Conv2D Layers (No Dropout)"
   ]
  },
  {
   "cell_type": "code",
   "execution_count": 13,
   "metadata": {},
   "outputs": [
    {
     "name": "stdout",
     "output_type": "stream",
     "text": [
      "Found 5216 files belonging to 2 classes.\n",
      "Found 16 files belonging to 2 classes.\n",
      "Epoch 1/10\n",
      "82/82 [==============================] - 500s 6s/step - loss: 0.2755 - accuracy: 0.8859 - val_loss: 0.9046 - val_accuracy: 0.6250\n",
      "Epoch 2/10\n",
      "82/82 [==============================] - 496s 6s/step - loss: 0.1106 - accuracy: 0.9586 - val_loss: 0.3619 - val_accuracy: 0.8125\n",
      "Epoch 3/10\n",
      "82/82 [==============================] - 496s 6s/step - loss: 0.1033 - accuracy: 0.9607 - val_loss: 0.3195 - val_accuracy: 0.8750\n",
      "Epoch 4/10\n",
      "82/82 [==============================] - 496s 6s/step - loss: 0.0647 - accuracy: 0.9743 - val_loss: 0.1869 - val_accuracy: 0.9375\n",
      "Epoch 5/10\n",
      "82/82 [==============================] - 497s 6s/step - loss: 0.0426 - accuracy: 0.9860 - val_loss: 0.2559 - val_accuracy: 0.8125\n",
      "Epoch 6/10\n",
      "82/82 [==============================] - 497s 6s/step - loss: 0.0336 - accuracy: 0.9873 - val_loss: 0.1831 - val_accuracy: 0.8750\n",
      "Epoch 7/10\n",
      "82/82 [==============================] - 497s 6s/step - loss: 0.0239 - accuracy: 0.9912 - val_loss: 0.2154 - val_accuracy: 0.8125\n",
      "Epoch 8/10\n",
      "82/82 [==============================] - 496s 6s/step - loss: 0.0317 - accuracy: 0.9870 - val_loss: 0.0609 - val_accuracy: 0.9375\n",
      "Epoch 9/10\n",
      "82/82 [==============================] - 495s 6s/step - loss: 0.0181 - accuracy: 0.9933 - val_loss: 0.0040 - val_accuracy: 1.0000\n",
      "Epoch 10/10\n",
      "82/82 [==============================] - 495s 6s/step - loss: 0.0106 - accuracy: 0.9977 - val_loss: 0.1214 - val_accuracy: 0.9375\n"
     ]
    },
    {
     "data": {
      "image/png": "[encoded data removed]",
      "text/plain": [
       "<Figure size 720x216 with 2 Axes>"
      ]
     },
     "metadata": {
      "needs_background": "light"
     },
     "output_type": "display_data"
    }
   ],
   "source": [
    "BATCH_SIZE = 64\n",
    "\n",
    "training_dir = 'chest_xray/chest_xray/train'\n",
    "train_ds = tf.keras.preprocessing.image_dataset_from_directory(\n",
    "  training_dir,\n",
    "  seed=123,\n",
    "  image_size=(200,200),\n",
    "  batch_size=BATCH_SIZE)\n",
    "\n",
    "validation_dir = 'chest_xray/chest_xray/val'\n",
    "val_ds = tf.keras.preprocessing.image_dataset_from_directory(\n",
    "  validation_dir,\n",
    "  seed=123,\n",
    "  image_size=(200,200),\n",
    "  batch_size=BATCH_SIZE)\n",
    "\n",
    "# Instatiate the normalization layer\n",
    "normalization_layer = tf.keras.layers.experimental.preprocessing.Rescaling(1./255)\n",
    "\n",
    "AUTOTUNE = tf.data.experimental.AUTOTUNE\n",
    "\n",
    "train_tensors = train_ds.cache().prefetch(buffer_size=AUTOTUNE)\n",
    "val_tensors = val_ds.cache().prefetch(buffer_size=AUTOTUNE)\n",
    "\n",
    "model = tf.keras.Sequential([\n",
    "  layers.experimental.preprocessing.Rescaling(1./255),\n",
    "  \n",
    "  layers.Conv2D(32, 3, activation='relu'),\n",
    "  layers.Conv2D(32, 3, activation='relu'),\n",
    "  layers.MaxPooling2D(),\n",
    "  \n",
    "  layers.Conv2D(32, 3, activation='relu'),\n",
    "  layers.Conv2D(32, 3, activation='relu'),\n",
    "  layers.MaxPooling2D(),\n",
    "  \n",
    "  layers.Flatten(),\n",
    "  layers.Dense(128, activation='relu'),\n",
    "  \n",
    "  layers.Dense(1, activation='sigmoid')\n",
    "])\n",
    "\n",
    "model.compile(\n",
    "  optimizer='adam',\n",
    "    loss=tf.losses.BinaryCrossentropy(from_logits=False),\n",
    "  metrics=['accuracy'])\n",
    "\n",
    "history = model.fit(\n",
    "  train_ds,\n",
    "  validation_data=val_ds,\n",
    "  epochs=NUM_EPOCHS\n",
    ")\n",
    "\n",
    "fig, ax = plt.subplots(1, 2, figsize=(10, 3))\n",
    "ax = ax.ravel()\n",
    "\n",
    "for i, met in enumerate(['accuracy', 'loss']):\n",
    "    ax[i].plot(history.history[met])\n",
    "    ax[i].plot(history.history['val_' + met])\n",
    "    ax[i].set_title('Model {}'.format(met))\n",
    "    ax[i].set_xlabel('epochs')\n",
    "    ax[i].set_ylabel(met)\n",
    "    ax[i].legend(['train', 'val'])"
   ]
  },
  {
   "cell_type": "code",
   "execution_count": 14,
   "metadata": {},
   "outputs": [
    {
     "name": "stdout",
     "output_type": "stream",
     "text": [
      "CONFUSION MATRIX ------------------\n",
      "[[ 26 208]\n",
      " [ 50 340]]\n",
      "\n",
      "TEST METRICS ----------------------\n",
      "Accuracy: 58.65384615384615%\n",
      "Precision: 62.04379562043796%\n",
      "Recall: 87.17948717948718%\n",
      "F1-score: 72.4946695095949\n",
      "\n",
      "TRAIN METRIC ----------------------\n",
      "Train acc: 99.77\n"
     ]
    }
   ],
   "source": [
    "# TEST\n",
    "\n",
    "import cv2\n",
    "from sklearn.metrics import accuracy_score, confusion_matrix\n",
    "\n",
    "# I will be making predictions off of the test set in one batch size\n",
    "# This is useful to be able to get the confusion matrix\n",
    "test_data = []\n",
    "test_labels = []\n",
    "\n",
    "input_path = 'chest_xray/chest_xray/'\n",
    "\n",
    "for cond in ['/NORMAL/', '/PNEUMONIA/']:\n",
    "    for img in (os.listdir(input_path + 'test' + cond)):\n",
    "        img = plt.imread(input_path+'test'+cond+img)\n",
    "        img = cv2.resize(img, (200, 200))\n",
    "        img = np.dstack([img, img, img])\n",
    "        img = img.astype('float32') / 255\n",
    "        if cond=='/NORMAL/':\n",
    "            label = 0\n",
    "        elif cond=='/PNEUMONIA/':\n",
    "            label = 1\n",
    "        test_data.append(img)\n",
    "        test_labels.append(label)\n",
    "\n",
    "test_data = np.array(test_data)\n",
    "test_labels = np.array(test_labels)\n",
    "\n",
    "preds = model.predict(test_ds)\n",
    "\n",
    "acc = accuracy_score(test_labels, np.round(preds))*100\n",
    "cm = confusion_matrix(test_labels, np.round(preds))\n",
    "tn, fp, fn, tp = cm.ravel()\n",
    "\n",
    "print('CONFUSION MATRIX ------------------')\n",
    "print(cm)\n",
    "\n",
    "print('\\nTEST METRICS ----------------------')\n",
    "precision = tp/(tp+fp)*100\n",
    "recall = tp/(tp+fn)*100\n",
    "print('Accuracy: {}%'.format(acc))\n",
    "print('Precision: {}%'.format(precision))\n",
    "print('Recall: {}%'.format(recall))\n",
    "print('F1-score: {}'.format(2*precision*recall/(precision+recall)))\n",
    "\n",
    "print('\\nTRAIN METRIC ----------------------')\n",
    "print('Train acc: {}'.format(np.round((history.history['accuracy'][-1])*100, 2)))\n"
   ]
  },
  {
   "cell_type": "markdown",
   "metadata": {},
   "source": [
    "## Test the model"
   ]
  },
  {
   "cell_type": "code",
   "execution_count": 15,
   "metadata": {},
   "outputs": [
    {
     "name": "stdout",
     "output_type": "stream",
     "text": [
      "CONFUSION MATRIX ------------------\n",
      "[[ 30 204]\n",
      " [ 46 344]]\n",
      "\n",
      "TEST METRICS ----------------------\n",
      "Accuracy: 59.93589743589743%\n",
      "Precision: 62.77372262773723%\n",
      "Recall: 88.2051282051282%\n",
      "F1-score: 73.34754797441366\n",
      "\n",
      "TRAIN METRIC ----------------------\n",
      "Train acc: 99.77\n"
     ]
    }
   ],
   "source": [
    "import cv2\n",
    "from sklearn.metrics import accuracy_score, confusion_matrix\n",
    "\n",
    "# I will be making predictions off of the test set in one batch size\n",
    "# This is useful to be able to get the confusion matrix\n",
    "test_data = []\n",
    "test_labels = []\n",
    "\n",
    "input_path = 'chest_xray/chest_xray/'\n",
    "\n",
    "for cond in ['/NORMAL/', '/PNEUMONIA/']:\n",
    "    for img in (os.listdir(input_path + 'test' + cond)):\n",
    "        img = plt.imread(input_path+'test'+cond+img)\n",
    "        img = cv2.resize(img, (200, 200))\n",
    "        img = np.dstack([img, img, img])\n",
    "        img = img.astype('float32') / 255\n",
    "        if cond=='/NORMAL/':\n",
    "            label = 0\n",
    "        elif cond=='/PNEUMONIA/':\n",
    "            label = 1\n",
    "        test_data.append(img)\n",
    "        test_labels.append(label)\n",
    "\n",
    "test_data = np.array(test_data)\n",
    "test_labels = np.array(test_labels)\n",
    "\n",
    "preds = model.predict(test_ds)\n",
    "\n",
    "acc = accuracy_score(test_labels, np.round(preds))*100\n",
    "cm = confusion_matrix(test_labels, np.round(preds))\n",
    "tn, fp, fn, tp = cm.ravel()\n",
    "\n",
    "print('CONFUSION MATRIX ------------------')\n",
    "print(cm)\n",
    "\n",
    "print('\\nTEST METRICS ----------------------')\n",
    "precision = tp/(tp+fp)*100\n",
    "recall = tp/(tp+fn)*100\n",
    "print('Accuracy: {}%'.format(acc))\n",
    "print('Precision: {}%'.format(precision))\n",
    "print('Recall: {}%'.format(recall))\n",
    "print('F1-score: {}'.format(2*precision*recall/(precision+recall)))\n",
    "\n",
    "print('\\nTRAIN METRIC ----------------------')\n",
    "print('Train acc: {}'.format(np.round((history.history['accuracy'][-1])*100, 2)))\n"
   ]
  },
  {
   "cell_type": "code",
   "execution_count": null,
   "metadata": {},
   "outputs": [],
   "source": []
  }
 ],
 "metadata": {
  "kernelspec": {
   "display_name": "Python 3",
   "language": "python",
   "name": "python3"
  },
  "language_info": {
   "codemirror_mode": {
    "name": "ipython",
    "version": 3
   },
   "file_extension": ".py",
   "mimetype": "text/x-python",
   "name": "python",
   "nbconvert_exporter": "python",
   "pygments_lexer": "ipython3",
   "version": "3.8.2"
  }
 },
 "nbformat": 4,
 "nbformat_minor": 4
}
